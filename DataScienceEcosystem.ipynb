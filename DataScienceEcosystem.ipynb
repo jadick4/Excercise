{
 "cells": [
  {
   "cell_type": "markdown",
   "id": "b2cd0d91",
   "metadata": {},
   "source": [
    "# Data Science Tools and Ecosystem"
   ]
  },
  {
   "cell_type": "markdown",
   "id": "825144a0",
   "metadata": {},
   "source": [
    "In this notebook, Data Science Tools and Ecosystem are summarized."
   ]
  },
  {
   "cell_type": "markdown",
   "id": "6ad5114f",
   "metadata": {},
   "source": [
    "Some of the popular languages that Data Scientists use are:\n",
    "1. Python\n",
    "2. R\n",
    "3. Java"
   ]
  },
  {
   "cell_type": "markdown",
   "id": "b52baaf3",
   "metadata": {},
   "source": [
    "Some of the commonly used libraries used by Data Scientists include:\n",
    "\n",
    "1. TensorFlow\n",
    "2. NumPy\n",
    "3. SciPy"
   ]
  },
  {
   "cell_type": "markdown",
   "id": "6046b67a",
   "metadata": {},
   "source": [
    "|Data Science Tools|\n",
    "|:----------------:|\n",
    "|R Studio          |\n",
    "|Jupyter Notebooks |\n",
    "|Jupyter Lab       |\n"
   ]
  },
  {
   "cell_type": "markdown",
   "id": "7f684215",
   "metadata": {},
   "source": [
    "### Below are a few examples of evaluating arithmetic expressions in Python"
   ]
  },
  {
   "cell_type": "code",
   "execution_count": 1,
   "id": "2a411905",
   "metadata": {},
   "outputs": [
    {
     "data": {
      "text/plain": [
       "17"
      ]
     },
     "execution_count": 1,
     "metadata": {},
     "output_type": "execute_result"
    }
   ],
   "source": [
    "# This is a simple arithmetic expression to mutiply then add integers\n",
    "(3*4)+5"
   ]
  },
  {
   "cell_type": "code",
   "execution_count": 3,
   "id": "ee8ac067",
   "metadata": {},
   "outputs": [
    {
     "name": "stdout",
     "output_type": "stream",
     "text": [
      "3.3333333333333335\n"
     ]
    }
   ],
   "source": [
    "# This will convert 200 minutes to hours by diving by 60\n",
    "\n",
    "def convertMin(min):\n",
    "    hours = min/60\n",
    "    return hours\n",
    "\n",
    "print(convertMin(200))"
   ]
  },
  {
   "cell_type": "markdown",
   "id": "faa1dddc",
   "metadata": {},
   "source": [
    "Objectives:\n",
    "\n",
    "- Simple Arithmetic\n",
    "- Convert minutes to hours\n",
    "- Headers"
   ]
  },
  {
   "cell_type": "markdown",
   "id": "3f4fa587",
   "metadata": {},
   "source": [
    "## Author\n",
    "Jesse Dickerson"
   ]
  },
  {
   "cell_type": "code",
   "execution_count": null,
   "id": "0fd89922",
   "metadata": {},
   "outputs": [],
   "source": []
  }
 ],
 "metadata": {
  "kernelspec": {
   "display_name": "Python 3 (ipykernel)",
   "language": "python",
   "name": "python3"
  },
  "language_info": {
   "codemirror_mode": {
    "name": "ipython",
    "version": 3
   },
   "file_extension": ".py",
   "mimetype": "text/x-python",
   "name": "python",
   "nbconvert_exporter": "python",
   "pygments_lexer": "ipython3",
   "version": "3.11.4"
  }
 },
 "nbformat": 4,
 "nbformat_minor": 5
}
